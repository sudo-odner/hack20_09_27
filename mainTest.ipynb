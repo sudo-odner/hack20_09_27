{
 "cells": [
  {
   "cell_type": "code",
   "execution_count": null,
   "id": "b9e6eb5c-1bd0-49ff-93e4-3cd2588ae39b",
   "metadata": {},
   "outputs": [],
   "source": [
    "## Class work wiht STT"
   ]
  },
  {
   "cell_type": "code",
   "execution_count": null,
   "id": "f295013b-144e-450f-95fa-ec5a43ec9430",
   "metadata": {},
   "outputs": [],
   "source": [
    "!pip3 install whisper-timestamped\n",
    "!pip install torch\n",
    "!pip install moviepy"
   ]
  },
  {
   "cell_type": "code",
   "execution_count": null,
   "id": "15e04924-522f-41a8-8a24-1dbb9674dfac",
   "metadata": {},
   "outputs": [],
   "source": [
    "import whisper_timestamped as whisper"
   ]
  },
  {
   "cell_type": "code",
   "execution_count": null,
   "id": "8ce3cba2-5496-4da8-8184-b31cec8f32bb",
   "metadata": {},
   "outputs": [],
   "source": [
    "class STT:\n",
    "    def __init__(self, modelType=\"base\"):\n",
    "        self.modelType = modelType\n",
    "        self.batch_size = 16 # reduce if low on GPU mem\n",
    "        self.divice = \"cuda\" if torch.cuda.is_available() else \"cpu\"\n",
    "        self.compute_type = \"float16\" if torch.cuda.is_available() else \"int8\"\n",
    "        self.model = whisper.load_model(self.modelType, device=self.divice)\n",
    "\n",
    "    def convertMP3ToText(pathToMP3: str) -> (str, str):\n",
    "        audio = whisper.load_audio(pathToMP3)\n",
    "        result = whisper.transcribe(model, audio, language=\"fr\")\n",
    "\n",
    "        text: str = result[\"text\"]\n",
    "        word_data: list[dict] = list()\n",
    "        for segment in result[\"segments\"]:\n",
    "            for word in segment[\"words\"]:\n",
    "                word_data.append({\n",
    "                    \"text\": word[\"text\"],\n",
    "                    \"startTime\": word[\"start\"] * 1000,\n",
    "                    \"endTime\": word[\"end\"] * 1000\n",
    "                })\n",
    "        return text, word_data"
   ]
  }
 ],
 "metadata": {
  "kernelspec": {
   "display_name": "Python 3 (ipykernel)",
   "language": "python",
   "name": "python3"
  },
  "language_info": {
   "codemirror_mode": {
    "name": "ipython",
    "version": 3
   },
   "file_extension": ".py",
   "mimetype": "text/x-python",
   "name": "python",
   "nbconvert_exporter": "python",
   "pygments_lexer": "ipython3",
   "version": "3.10.14"
  }
 },
 "nbformat": 4,
 "nbformat_minor": 5
}
