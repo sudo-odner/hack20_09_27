{
 "cells": [
  {
   "cell_type": "code",
   "execution_count": 2,
   "id": "20c78968-ef4d-4ceb-8092-e67dc47f93b8",
   "metadata": {},
   "outputs": [
    {
     "name": "stdout",
     "output_type": "stream",
     "text": [
      "Collecting opencv-python\n",
      "  Downloading opencv_python-4.10.0.84-cp37-abi3-macosx_11_0_arm64.whl.metadata (20 kB)\n",
      "Requirement already satisfied: numpy>=1.21.2 in /Users/polinanazarova/anaconda3/envs/vseross2024/lib/python3.10/site-packages (from opencv-python) (2.0.2)\n",
      "Downloading opencv_python-4.10.0.84-cp37-abi3-macosx_11_0_arm64.whl (54.8 MB)\n",
      "\u001b[2K   \u001b[90m━━━━━━━━━━━━━━━━━━━━━━━━━━━━━━━━━━━━━━━━\u001b[0m \u001b[32m54.8/54.8 MB\u001b[0m \u001b[31m1.1 MB/s\u001b[0m eta \u001b[36m0:00:00\u001b[0m00:01\u001b[0m00:02\u001b[0m\n",
      "\u001b[?25hInstalling collected packages: opencv-python\n",
      "Successfully installed opencv-python-4.10.0.84\n"
     ]
    }
   ],
   "source": [
    "!pip install opencv-python"
   ]
  },
  {
   "cell_type": "code",
   "execution_count": 10,
   "id": "6a72c4fb-498e-4fe7-b5b4-6e2c5012b5fa",
   "metadata": {},
   "outputs": [
    {
     "name": "stdout",
     "output_type": "stream",
     "text": [
      "Collecting scikit-image\n",
      "  Downloading scikit_image-0.24.0-cp310-cp310-macosx_12_0_arm64.whl.metadata (14 kB)\n",
      "Requirement already satisfied: numpy>=1.23 in /Users/polinanazarova/anaconda3/envs/vseross2024/lib/python3.10/site-packages (from scikit-image) (2.0.2)\n",
      "Requirement already satisfied: scipy>=1.9 in /Users/polinanazarova/anaconda3/envs/vseross2024/lib/python3.10/site-packages (from scikit-image) (1.14.1)\n",
      "Collecting networkx>=2.8 (from scikit-image)\n",
      "  Downloading networkx-3.3-py3-none-any.whl.metadata (5.1 kB)\n",
      "Requirement already satisfied: pillow>=9.1 in /Users/polinanazarova/anaconda3/envs/vseross2024/lib/python3.10/site-packages (from scikit-image) (10.4.0)\n",
      "Collecting imageio>=2.33 (from scikit-image)\n",
      "  Downloading imageio-2.35.1-py3-none-any.whl.metadata (4.9 kB)\n",
      "Collecting tifffile>=2022.8.12 (from scikit-image)\n",
      "  Downloading tifffile-2024.9.20-py3-none-any.whl.metadata (32 kB)\n",
      "Requirement already satisfied: packaging>=21 in /Users/polinanazarova/anaconda3/envs/vseross2024/lib/python3.10/site-packages (from scikit-image) (24.1)\n",
      "Requirement already satisfied: lazy-loader>=0.4 in /Users/polinanazarova/anaconda3/envs/vseross2024/lib/python3.10/site-packages (from scikit-image) (0.4)\n",
      "Downloading scikit_image-0.24.0-cp310-cp310-macosx_12_0_arm64.whl (13.4 MB)\n",
      "\u001b[2K   \u001b[90m━━━━━━━━━━━━━━━━━━━━━━━━━━━━━━━━━━━━━━━━\u001b[0m \u001b[32m13.4/13.4 MB\u001b[0m \u001b[31m1.2 MB/s\u001b[0m eta \u001b[36m0:00:00\u001b[0m00:01\u001b[0m00:01\u001b[0m\n",
      "\u001b[?25hDownloading imageio-2.35.1-py3-none-any.whl (315 kB)\n",
      "Downloading networkx-3.3-py3-none-any.whl (1.7 MB)\n",
      "\u001b[2K   \u001b[90m━━━━━━━━━━━━━━━━━━━━━━━━━━━━━━━━━━━━━━━━\u001b[0m \u001b[32m1.7/1.7 MB\u001b[0m \u001b[31m1.5 MB/s\u001b[0m eta \u001b[36m0:00:00\u001b[0ma \u001b[36m0:00:01\u001b[0m\n",
      "\u001b[?25hDownloading tifffile-2024.9.20-py3-none-any.whl (228 kB)\n",
      "Installing collected packages: tifffile, networkx, imageio, scikit-image\n",
      "Successfully installed imageio-2.35.1 networkx-3.3 scikit-image-0.24.0 tifffile-2024.9.20\n"
     ]
    }
   ],
   "source": [
    "!pip3 install scikit-image"
   ]
  },
  {
   "cell_type": "code",
   "execution_count": 2,
   "id": "4fcb6f17-7308-426e-ab12-2645156e0904",
   "metadata": {},
   "outputs": [
    {
     "name": "stdout",
     "output_type": "stream",
     "text": [
      "CPU times: user 3 μs, sys: 0 ns, total: 3 μs\n",
      "Wall time: 7.39 μs\n",
      "Извлечено 1089 кадров из видео\n"
     ]
    }
   ],
   "source": [
    "%time\n",
    "\n",
    "import cv2\n",
    "import numpy as np\n",
    "\n",
    "def extract_frames_from_video(video_path, take_every_n_frame = 50):\n",
    "    # Открываем видеофайл\n",
    "    cap = cv2.VideoCapture(video_path)\n",
    "    \n",
    "    # Проверяем, удалось ли открыть видеофайл\n",
    "    if not cap.isOpened():\n",
    "        print(f\"Ошибка: не удалось открыть видеофайл {video_path}\")\n",
    "        return []\n",
    "\n",
    "    frames = []\n",
    "    c = 0\n",
    "    \n",
    "    while cap.isOpened():\n",
    "        # Читаем кадр за кадром\n",
    "        ret, frame = cap.read()\n",
    "        c+=1\n",
    "        \n",
    "        if not ret:\n",
    "            break\n",
    "        \n",
    "        # Добавляем кадр в список\n",
    "        if c%take_every_n_frame == 0: frames.append(frame)\n",
    "    \n",
    "    # Освобождаем захват видео\n",
    "    cap.release()\n",
    "    \n",
    "    return np.array(frames)\n",
    "\n",
    "# Пример использования\n",
    "video_path = '/Users/polinanazarova/Desktop/2ef3ec7442459323bfb283992ffe001f.mp4'\n",
    "frames = extract_frames_from_video(video_path)\n",
    "print(f\"Извлечено {len(frames)} кадров из видео\")"
   ]
  },
  {
   "cell_type": "markdown",
   "id": "f56fd313-3c10-4ba3-a0c7-684ad33f15d8",
   "metadata": {},
   "source": [
    "# HOG\n",
    "Высокие значения: высокое среднее значение HOG дескрипторов указывает на наличие множества объектов, деталей и сложных текстур. Это может свидетельствовать о насыщенности сцены.\n",
    "Низкие значения: низкое среднее значение указывает на то, что изображение содержит большие однородные области без значительных перепадов яркости, что характерно для простых изображений без множества объектов и деталей."
   ]
  },
  {
   "cell_type": "code",
   "execution_count": 3,
   "id": "0739cabb-a23c-4bcf-8ce9-d043ae5dafb6",
   "metadata": {},
   "outputs": [
    {
     "name": "stdout",
     "output_type": "stream",
     "text": [
      "Время выполнения: 40.0461208820343 секунд\n"
     ]
    }
   ],
   "source": [
    "import time\n",
    "from skimage.feature import hog\n",
    "\n",
    "start_time = time.time()\n",
    "\n",
    "average_hogs = []\n",
    "for i in range(len(frames)):\n",
    "    # Загрузка изображения\n",
    "    image = cv2.cvtColor(frames[i],cv2.COLOR_RGB2GRAY)\n",
    "    \n",
    "    #Вычисление HOG\n",
    "    fd = hog(image, pixels_per_cell=(16, 16), cells_per_block=(4, 4))\n",
    "    # Вычисление среднего значения HOG дескрипторов\n",
    "    average_hog_descriptor = np.mean(fd) #выше коэффициент - больше деталей и обьектов в изображении\n",
    "    average_hogs.append(average_hog_descriptor)\n",
    "\n",
    "end_time = time.time()\n",
    "execution_time = end_time - start_time\n",
    "print(f\"Время выполнения: {execution_time} секунд\")\n"
   ]
  },
  {
   "cell_type": "code",
   "execution_count": 4,
   "id": "e32cc77b-47ad-4b27-8afe-250ca3efd0a6",
   "metadata": {},
   "outputs": [
    {
     "data": {
      "image/png": "[encoded data removed]",
      "text/plain": [
       "<Figure size 1400x500 with 1 Axes>"
      ]
     },
     "metadata": {},
     "output_type": "display_data"
    }
   ],
   "source": [
    "import seaborn as sns\n",
    "from matplotlib import pyplot as plt\n",
    "plt.figure(figsize=(14, 5))\n",
    "plt.semilogy(average_hogs)\n",
    "plt.show()"
   ]
  },
  {
   "cell_type": "markdown",
   "id": "65babc35-5efd-43da-8f0d-a57a83254c61",
   "metadata": {},
   "source": [
    "1. Контраст (Contrast)\n",
    "Низкий контраст (приблизительно 0 - 0.5): Указывает на однородное изображение без резких изменений в яркости.\n",
    "Средний контраст (приблизительно 0.5 - 1.5): Указывает на изображение с умеренными изменениями в яркости.\n",
    "Высокий контраст (более 1.5): Указывает на изображение с резкими переходами и большим количеством деталей и объектов.\n",
    "2. Энергия (Energy)\n",
    "Низкая энергия (приблизительно 0 - 0.1): Указывает на сложную текстуру с большим разнообразием интенсивностей.\n",
    "Средняя энергия (приблизительно 0.1 - 0.3): Указывает на умеренно сложную текстуру.\n",
    "Высокая энергия (более 0.3): Указывает на однородное изображение с малым количеством текстурных элементов.\n",
    "3. Гомогенность (Homogeneity)\n",
    "Низкая гомогенность (приблизительно 0 - 0.4): Указывает на изображение с разнородной текстурой и большим количеством различных элементов.\n",
    "Средняя гомогенность (приблизительно 0.4 - 0.7): Указывает на изображение с умеренной разнородностью.\n",
    "Высокая гомогенность (более 0.7): Указывает на очень однородное изображение с малым количеством текстурных элементов.\n",
    "4. Корреляция (Correlation)\n",
    "Низкая корреляция (приблизительно 0 - 0.5): Указывает на низкую предсказуемость значений пикселей и разнообразную текстуру.\n",
    "Средняя корреляция (приблизительно 0.5 - 0.8): Указывает на умеренную предсказуемость.\n",
    "Высокая корреляция (более 0.8): Указывает на высокую предсказуемость значений интенсивностей пикселей, что характерно для однородных изображений."
   ]
  },
  {
   "cell_type": "code",
   "execution_count": 4,
   "id": "73e297c5-2cbd-41c1-afd0-605b0afa0615",
   "metadata": {},
   "outputs": [
    {
     "name": "stdout",
     "output_type": "stream",
     "text": [
      "Время выполнения: 2.0100789070129395 секунд\n"
     ]
    },
    {
     "data": {
      "text/plain": [
       "4"
      ]
     },
     "execution_count": 4,
     "metadata": {},
     "output_type": "execute_result"
    }
   ],
   "source": [
    "import time\n",
    "from skimage.feature import hog, graycomatrix, graycoprops\n",
    "\n",
    "start_time = time.time()\n",
    "\n",
    "haralick_params = {'rev_contrast':[],'energy':[],'homogeneity':[],'correlation':[]}\n",
    "for input_image in frames:\n",
    "    # Вычисление GLCM\n",
    "    glcm = graycomatrix(image, distances=[5], angles=[0], levels=256, symmetric=True, normed=True)\n",
    "    \n",
    "    # Извлечение Haralick характеристик\n",
    "    '''Высокий контраст указывает на большой диапазон интенсивностей и существенные изменения яркости, \n",
    "    что характерно для изображений с многочисленными объектами и деталями.'''\n",
    "    contrast = graycoprops(glcm, 'contrast')[0, 0]\n",
    "\n",
    "    '''Высокая энергия свидетельствует о гомогенности и однородности текстуры. Низкая энергия указывает на большую текстурную сложность.'''\n",
    "    energy = graycoprops(glcm, 'energy')[0, 0]\n",
    "\n",
    "    '''Высокая гомогенность указывает на наличие большей части одинаковых значений интенсивности, \n",
    "    тогда как низкая гомогенность указывает на более разнообразные и сложные текстуры.'''\n",
    "    homogeneity = graycoprops(glcm, 'homogeneity')[0, 0]\n",
    "\n",
    "    '''Высокая корреляция указывает на предсказуемость значений яркости (т.е. менее насыщенные текстуры), \n",
    "    тогда как низкая корреляция указывает на более разрозненные текстуры.'''\n",
    "    correlation = graycoprops(glcm, 'correlation')[0, 0]\n",
    "\n",
    "    #Сделаем так, чтобы в итоговом параметре каждый из составляющих параметров был прямо пропоционален увеличению сложности и насыщенности изображения\n",
    "    haralick_params['rev_contrast'].append(1/(contrast+0.000001))\n",
    "    haralick_params['energy'].append(energy)\n",
    "    haralick_params['homogeneity'].append(homogeneity)\n",
    "    haralick_params['correlation'].append(correlation)\n",
    "\n",
    "end_time = time.time()\n",
    "execution_time = end_time - start_time\n",
    "print(f\"Время выполнения: {execution_time} секунд\")\n",
    "\n",
    "len(haralick_params)"
   ]
  },
  {
   "cell_type": "code",
   "execution_count": 8,
   "id": "76198360-2aa5-4618-b32a-12997b9199e7",
   "metadata": {},
   "outputs": [
    {
     "data": {
      "text/plain": [
       "np.float64(1.1102230246251565e-16)"
      ]
     },
     "execution_count": 8,
     "metadata": {},
     "output_type": "execute_result"
    }
   ],
   "source": [
    "np.std( haralick_params['homogeneity'])"
   ]
  },
  {
   "cell_type": "code",
   "execution_count": 91,
   "id": "a2badfc6-ab26-4ffe-84e5-47d5cb0821fd",
   "metadata": {},
   "outputs": [
    {
     "data": {
      "image/png": "[encoded data removed]",
      "text/plain": [
       "<Figure size 1000x500 with 1 Axes>"
      ]
     },
     "metadata": {},
     "output_type": "display_data"
    }
   ],
   "source": [
    "plt.figure(figsize=(14, 5))\n",
    "plt.semilogy(average_hogs)\n",
    "plt.show()"
   ]
  },
  {
   "cell_type": "markdown",
   "id": "216abeb8-0268-49eb-bba5-ff760adfdf5b",
   "metadata": {},
   "source": [
    "Низкая энтропия: Указывает на то, что изображение содержит большие однородные области. Например, фотографии с равномерными фонами или малым количеством текстур имеют низкую энтропию.\n",
    "Высокая энтропия: Указывает на то, что изображение содержит много деталей, шумов и резких переходов. Например, фотографии с большим количеством мелких объектов, текстур или шумов имеют высокую энтропию."
   ]
  },
  {
   "cell_type": "code",
   "execution_count": 5,
   "id": "8bdb8257-ba7c-49f1-9464-80595eb77d2f",
   "metadata": {},
   "outputs": [
    {
     "name": "stdout",
     "output_type": "stream",
     "text": [
      "Время выполнения: 0.5117208957672119 секунд\n"
     ]
    },
    {
     "data": {
      "text/plain": [
       "1089"
      ]
     },
     "execution_count": 5,
     "metadata": {},
     "output_type": "execute_result"
    }
   ],
   "source": [
    "start_time = time.time()\n",
    "\n",
    "entropies = []\n",
    "for input_image in frames:\n",
    "    # Загрузка изображения\n",
    "    image = cv2.cvtColor(input_image,cv2.COLOR_RGB2GRAY)\n",
    "   \n",
    "    hist = cv2.calcHist([image], [0], None, [256], [0, 256])\n",
    "    # Нормализация гистограммы\n",
    "    hist = hist / np.sum(hist)\n",
    "    \n",
    "    # Вычисление меры энтропии\n",
    "    entropy = -np.sum(hist * np.log2(hist + 1e-10))\n",
    "    entropies.append(entropy)\n",
    "\n",
    "end_time = time.time()\n",
    "execution_time = end_time - start_time\n",
    "print(f\"Время выполнения: {execution_time} секунд\")\n",
    "\n",
    "len(entropies)"
   ]
  },
  {
   "cell_type": "markdown",
   "id": "e9e24e53-1038-4c3d-b18f-41bdef0d39e1",
   "metadata": {},
   "source": [
    "Таким образом получаем для каждого кадра положительную или отрицательную метрику, показывающую его энтропию относительно других кадров"
   ]
  },
  {
   "cell_type": "code",
   "execution_count": 7,
   "id": "93d879e1-33ba-4cb9-9e75-5360fff94eb5",
   "metadata": {},
   "outputs": [],
   "source": [
    "entropies_ = entropies-np.mean(entropies) "
   ]
  },
  {
   "cell_type": "code",
   "execution_count": 8,
   "id": "0cdcae8f-e5b1-4c43-8f61-f4c282c8bcb0",
   "metadata": {},
   "outputs": [
    {
     "data": {
      "image/png": "[encoded data removed]",
      "text/plain": [
       "<Figure size 640x480 with 1 Axes>"
      ]
     },
     "metadata": {},
     "output_type": "display_data"
    }
   ],
   "source": [
    "plt.semilogy(entropies_)\n",
    "plt.axhline(np.mean(entropies_), color='r', linestyle='--')\n",
    "plt.show()"
   ]
  },
  {
   "cell_type": "code",
   "execution_count": 9,
   "id": "632dafcb-b8a1-4505-a67d-b9c4cae3434c",
   "metadata": {},
   "outputs": [
    {
     "data": {
      "text/plain": [
       "33.333333333333336"
      ]
     },
     "execution_count": 9,
     "metadata": {},
     "output_type": "execute_result"
    }
   ],
   "source": [
    "cap = cv2.VideoCapture(video_path)\n",
    "fps = cap.get(cv2.CAP_PROP_FPS)\n",
    "mspf = 1000/fps #milliseconds per frame\n",
    "mspf"
   ]
  },
  {
   "cell_type": "code",
   "execution_count": 10,
   "id": "65e38a0c-a64a-4a22-a44d-b25fcc8f9fe5",
   "metadata": {},
   "outputs": [
    {
     "data": {
      "text/plain": [
       "36.3"
      ]
     },
     "execution_count": 10,
     "metadata": {},
     "output_type": "execute_result"
    }
   ],
   "source": [
    "len(frames)/fps"
   ]
  },
  {
   "cell_type": "code",
   "execution_count": 12,
   "id": "ed39dbbc-1ea7-4981-89aa-d9167d7408b2",
   "metadata": {},
   "outputs": [],
   "source": [
    "k = 0.1\n",
    "\n",
    "more_detailed_than_usual_frame_indexes = np.where((entropies_ > np.mean(entropies_)+k*np.std(entropies_)) & (average_hogs > np.mean(average_hogs)+k*np.std(average_hogs)))[0]\n",
    "\n",
    "less_detailed_than_usual_frame_indexes = np.where((entropies_ < np.mean(entropies_)-k*np.std(entropies_)) & (average_hogs < np.mean(average_hogs)-k*np.std(average_hogs)))[0]"
   ]
  },
  {
   "cell_type": "code",
   "execution_count": 13,
   "id": "0fa0596d-0546-4df6-9819-ba5fabd35683",
   "metadata": {},
   "outputs": [
    {
     "data": {
      "text/plain": [
       "(123, 85)"
      ]
     },
     "execution_count": 13,
     "metadata": {},
     "output_type": "execute_result"
    }
   ],
   "source": [
    "len(more_detailed_than_usual_frame_indexes),len(less_detailed_than_usual_frame_indexes)"
   ]
  },
  {
   "cell_type": "code",
   "execution_count": null,
   "id": "42fe8371-c604-47cc-98ef-4b5de5a67197",
   "metadata": {},
   "outputs": [],
   "source": []
  },
  {
   "cell_type": "code",
   "execution_count": 21,
   "id": "0b588bf6-5147-4955-b520-5501fa49259f",
   "metadata": {
    "scrolled": true
   },
   "outputs": [
    {
     "name": "stdout",
     "output_type": "stream",
     "text": [
      "[[(31400, 31467), 0.6040039523419566], [(30867, 30933), 0.5990386688403363], [(31133, 31200), 0.5903497963430908], [(32167, 32233), 0.585600277801935], [(31167, 31233), 0.579620338664467], [(31433, 31500), 0.576492175736332], [(31000, 31067), 0.5641826510589953], [(32200, 32267), 0.5631877743704686], [(32133, 32200), 0.5582344521436093], [(31033, 31100), 0.5547475512909841], [(31367, 31433), 0.5471895955671341], [(30800, 30867), 0.5437167622388004], [(32233, 32300), 0.5404815903712283], [(31500, 31567), 0.5385902869876024], [(31667, 31733), 0.5277578418844031], [(31933, 32000), 0.5277305334413074], [(31600, 31667), 0.5261447294399431], [(31767, 31833), 0.5246838277413427], [(31467, 31533), 0.5244813891384699], [(32333, 32400), 0.5236254095268642], [(31633, 31700), 0.5226546467858706], [(31800, 31867), 0.5220379726219729], [(31200, 31267), 0.5193445042671908], [(31967, 32033), 0.5171086216694917], [(31700, 31767), 0.5128428705039252], [(31733, 31800), 0.5116245048414205], [(31833, 31900), 0.5093090570234358], [(31333, 31400), 0.5018490274880252], [(30933, 31000), 0.4984073059440279], [(32100, 32167), 0.49790071937906866], [(32400, 32467), 0.49480498374963716], [(32267, 32333), 0.4901644231031687], [(32300, 32367), 0.4895188790731869], [(31867, 31933), 0.4866169755969836], [(31300, 31367), 0.48013179863712285], [(8600, 8667), 0.47377508826844644], [(32000, 32067), 0.47104605813660255], [(32367, 32433), 0.47018013287843474], [(8633, 8700), 0.4701184656926422], [(167, 233), 0.4208115200065403], [(100, 167), 0.4179498826752389], [(10600, 10667), 0.4115805331095506], [(0, 67), 0.39503825766908396], [(133, 200), 0.39343106069542944], [(667, 733), 0.3750565220651345], [(33, 33), 0.36390204118938263], [(27767, 27833), 0.3553071253050947], [(22067, 22133), 0.35417122789269717], [(27700, 27767), 0.3535276749010376], [(27500, 27567), 0.35164337117728567], [(27300, 27367), 0.35038114522500674], [(27833, 27900), 0.3496217553611999], [(27733, 27800), 0.34917084875094373], [(27800, 27867), 0.34825545003719305], [(27533, 27600), 0.3477138642021941], [(27667, 27733), 0.3463567961817041], [(27333, 27400), 0.3441707920308207], [(27367, 27433), 0.3413519174631463], [(27233, 27300), 0.3361374815474767], [(27267, 27333), 0.3360884735230241], [(23300, 23367), 0.33280295633124657], [(7433, 7500), 0.3324011950562829], [(27100, 27167), 0.32942297992682806], [(28567, 28633), 0.32933814847374815], [(26900, 26967), 0.3271125921097491], [(27067, 27133), 0.3240462238022027], [(29300, 29367), 0.31916597308467665], [(29333, 29400), 0.30878209050517375], [(28133, 28200), 0.3057699050175837], [(26667, 26733), 0.30296273270434115], [(25433, 25500), 0.3027384911412124], [(28100, 28167), 0.302450639232056], [(28967, 29033), 0.3022426038825696], [(22633, 22700), 0.30182435313010386], [(30100, 30167), 0.3013943908562867], [(21233, 21300), 0.3000658134269882], [(24500, 24567), 0.2965846104973901], [(25800, 25867), 0.2895919282416135], [(25733, 25800), 0.28733477751328235], [(20667, 20733), 0.2853603259506978], [(1367, 1433), 0.28302908544499855], [(1333, 1400), 0.2788438958704476], [(1000, 1067), 0.2783100034041449], [(25967, 26033), 0.2778952751532149], [(700, 767), 0.27637389207045504], [(28900, 28967), 0.2714971068071914], [(6000, 6067), 0.2699743706603645], [(5767, 5833), 0.2647031615808328], [(10633, 10700), 0.26430306362600936], [(7867, 7933), 0.2576737134736034], [(16633, 16700), 0.2575449150221389], [(967, 1033), 0.24910784133876315], [(29233, 29300), 0.24733168787921916], [(6233, 6300), 0.24566172978918488], [(11133, 11200), 0.24468696210096574], [(14200, 14267), 0.24007989732935386], [(14167, 14233), 0.23902770978754723], [(933, 1000), 0.23541658490075362], [(3967, 4033), 0.23459196624915174], [(4000, 4067), 0.2283252153031928], [(10667, 10733), 0.222143360596235], [(36000, 36067), 0.22143838289601722], [(18600, 18667), 0.20217646887571966], [(21767, 21833), 0.1988801577547218], [(20700, 20767), 0.1985316524683498], [(18767, 18833), 0.19715546535156903], [(19133, 19200), 0.19655150358787485], [(18867, 18933), 0.16904675875053238], [(20733, 20800), 0.16043034161360265], [(22733, 22800), 0.15865197003892398], [(33, 100), 0.15571328816144037], [(21200, 21267), 0.14852091350126848], [(67, 133), 0.1471728536869864], [(22200, 22267), 0.14420668984558863], [(22567, 22633), 0.13945414792478994], [(35867, 35933), 0.13702732687270944], [(19867, 19933), 0.13607754732449692], [(19900, 19967), 0.13485267659328748], [(19100, 19167), 0.13359810016595364], [(35967, 36033), 0.13300043192119296], [(22233, 22300), 0.1302224748296297], [(18967, 19033), 0.1261450025211403], [(20133, 20200), 0.12373719159625328], [(15733, 15800), -0.02084532708152577], [(833, 900), -0.022292524162459318], [(15700, 15767), -0.02341661196699152], [(14467, 14533), -0.02397039336183497], [(15533, 15600), -0.02406510345147532], [(15133, 15200), -0.024904834215449652], [(14500, 14567), -0.025506442434270103], [(15367, 15433), -0.0257899724647999], [(16600, 16667), -0.026025100253116336], [(16333, 16400), -0.026308366544481328], [(16400, 16467), -0.02666583496384678], [(14533, 14600), -0.027268309442127964], [(15967, 16033), -0.027566519406049643], [(17400, 17467), -0.02951643572795517], [(15300, 15367), -0.029617791302891362], [(15100, 15167), -0.030123673069657776], [(3067, 3133), -0.030302625636935518], [(17367, 17433), -0.03175299776906255], [(14233, 14300), -0.03231449508556426], [(15167, 15233), -0.03303870826817105], [(16567, 16633), -0.033240263653552746], [(17833, 17900), -0.03367379901550853], [(14967, 15033), -0.0341998059354048], [(15667, 15733), -0.03473965093930848], [(24333, 24400), -0.03697526189607553], [(14900, 14967), -0.03716936486703712], [(17033, 17100), -0.03821914649595782], [(15767, 15833), -0.03892282512284325], [(15800, 15867), -0.04247683192996242], [(15067, 15133), -0.042520761444962044], [(14700, 14767), -0.04291843826695963], [(16367, 16433), -0.0442526646973112], [(16933, 17000), -0.0448971971046284], [(17000, 17067), -0.047005608242972216], [(15267, 15333), -0.0479493594186797], [(16667, 16733), -0.05125526769150449], [(17300, 17367), -0.05223339957682722], [(14933, 15000), -0.05452805123364934], [(15333, 15400), -0.0554340782576469], [(14633, 14700), -0.057076986751163405], [(4067, 4133), -0.05722637550058994], [(17267, 17333), -0.05829294327857989], [(17333, 17400), -0.06221044638596421], [(15567, 15633), -0.06657725579967141], [(14667, 14733), -0.06805948896736924], [(20467, 20533), -0.08140213354002272], [(21067, 21133), -0.11875978494541728], [(18433, 18500), -0.13862113217662655], [(18533, 18600), -0.1488575550919799], [(18367, 18433), -0.15680082760317232], [(20433, 20500), -0.17222806177803726], [(20367, 20433), -0.17463449426610933], [(21100, 21167), -0.191002617600026], [(19200, 19267), -0.2029042290820152], [(22400, 22467), -0.20708886813837551], [(21333, 21400), -0.2535797736027473], [(21367, 21433), -0.25386534300691854], [(20400, 20467), -0.25403116603244524], [(20333, 20400), -0.2754009874864295], [(21533, 21600), -0.37922021906681036], [(18900, 18967), -0.46233328137808793], [(20833, 20900), -0.47698269429940526], [(20767, 20833), -0.4775035676489621], [(20233, 20300), -0.529235735657207], [(18933, 19000), -0.5784757044676422], [(20800, 20867), -0.6197616339199697], [(30700, 30767), -0.9085621813836807], [(300, 367), -1.9472027485416936], [(32500, 32567), -1.9493835000510717], [(18700, 18767), -2.256501780130318], [(36200, 36267), -2.4165121234526987], [(22833, 22900), -2.4342151054096837], [(233, 300), -3.2232094712015753], [(30633, 30700), -4.322721935244769], [(32433, 32500), -4.3493230271105325], [(18633, 18700), -4.695984744487968], [(22800, 22867), -5.8304407540826695], [(18667, 18733), -5.912931685650566], [(30667, 30733), -6.0653027626027045], [(32467, 32533), -6.066782323641867], [(22767, 22833), -6.31265956366372], [(267, 333), -6.7177917265840525], [(36133, 36200), -6.807599346790763], [(36167, 36233), -6.841880149345784], [(36233, 36300), -7.273664328015583]]\n"
     ]
    }
   ],
   "source": [
    "coef = []\n",
    "\n",
    "for ind in list(more_detailed_than_usual_frame_indexes)+list(less_detailed_than_usual_frame_indexes):\n",
    "    coef.append([ ( round((abs(int(ind)-1)*mspf)), round((int(ind)+1)*mspf) ) ,float(entropies_[ind]+ average_hogs[ind]) ])\n",
    "\n",
    "coef.sort(key=lambda x: x[1], reverse=True)\n",
    "\n",
    "print(coef)"
   ]
  },
  {
   "cell_type": "code",
   "execution_count": 22,
   "id": "9dee264e-dedc-4a2b-9908-0eeeb4da96a5",
   "metadata": {},
   "outputs": [
    {
     "ename": "IndexError",
     "evalue": "index 31400 is out of bounds for axis 0 with size 1089",
     "output_type": "error",
     "traceback": [
      "\u001b[0;31m---------------------------------------------------------------------------\u001b[0m",
      "\u001b[0;31mIndexError\u001b[0m                                Traceback (most recent call last)",
      "Cell \u001b[0;32mIn[22], line 2\u001b[0m\n\u001b[1;32m      1\u001b[0m \u001b[38;5;28;01mfrom\u001b[39;00m \u001b[38;5;21;01mIPython\u001b[39;00m\u001b[38;5;21;01m.\u001b[39;00m\u001b[38;5;21;01mdisplay\u001b[39;00m \u001b[38;5;28;01mimport\u001b[39;00m Image\n\u001b[0;32m----> 2\u001b[0m display(Image(\u001b[43mframes\u001b[49m\u001b[43m[\u001b[49m\u001b[43mcoef\u001b[49m\u001b[43m[\u001b[49m\u001b[38;5;241;43m0\u001b[39;49m\u001b[43m]\u001b[49m\u001b[43m[\u001b[49m\u001b[38;5;241;43m0\u001b[39;49m\u001b[43m]\u001b[49m\u001b[43m]\u001b[49m))\n",
      "\u001b[0;31mIndexError\u001b[0m: index 31400 is out of bounds for axis 0 with size 1089"
     ]
    }
   ],
   "source": [
    "import cv2\n",
    "import numpy as np\n",
    "import time\n",
    "from skimage.feature import hog\n",
    "\n",
    "def extract_frames_from_video(video_path, take_every_n_frame = 50):\n",
    "    # Открываем видеофайл\n",
    "    cap = cv2.VideoCapture(video_path)\n",
    "    \n",
    "    # Проверяем, удалось ли открыть видеофайл\n",
    "    if not cap.isOpened():\n",
    "        print(f\"Ошибка: не удалось открыть видеофайл {video_path}\")\n",
    "        return []\n",
    "\n",
    "    frames = []\n",
    "    c = 0\n",
    "    \n",
    "    while cap.isOpened():\n",
    "        # Читаем кадр за кадром\n",
    "        ret, frame = cap.read()\n",
    "        c+=1\n",
    "        \n",
    "        if not ret:\n",
    "            break\n",
    "        \n",
    "        # Добавляем кадр в список\n",
    "        if c%take_every_n_frame == 0: frames.append(frame)\n",
    "    \n",
    "    # Освобождаем захват видео\n",
    "    cap.release()\n",
    "    \n",
    "    return np.array(frames)\n",
    "\n",
    "def get_the_most_complicated_frames(video_path, take_every_n_frame = 50):\n",
    "    frames = extract_frames_from_video(video_path, take_every_n_frame)\n",
    "    print(f\"Извлечено {len(frames)} кадров из видео\")\n",
    "\n",
    "    average_hogs = []\n",
    "    for i in range(len(frames)):\n",
    "        # Загрузка изображения\n",
    "        image = cv2.cvtColor(frames[i],cv2.COLOR_RGB2GRAY)\n",
    "        \n",
    "        #Вычисление HOG\n",
    "        fd = hog(image, pixels_per_cell=(16, 16), cells_per_block=(4, 4))\n",
    "        # Вычисление среднего значения HOG дескрипторов\n",
    "        average_hog_descriptor = np.mean(fd) #выше коэффициент - больше деталей и обьектов в изображении\n",
    "        average_hogs.append(average_hog_descriptor)\n",
    "\n",
    "    \n",
    "\n",
    "\n",
    "    \n",
    "\n",
    "# Пример использования\n",
    "start_time = time.time()\n",
    "video_path = '/Users/polinanazarova/Desktop/2ef3ec7442459323bfb283992ffe001f.mp4'\n",
    "end_time = time.time()\n",
    "execution_time = end_time - start_time\n",
    "print(f\"Время выполнения: {execution_time} секунд\")"
   ]
  },
  {
   "cell_type": "code",
   "execution_count": 69,
   "id": "932b7f0e-4bd8-4f2e-a349-b54469747b29",
   "metadata": {},
   "outputs": [],
   "source": [
    "cv2.imshow(\"result\", frames[coef[0][0]])"
   ]
  },
  {
   "cell_type": "code",
   "execution_count": null,
   "id": "b0b3ec3c-1795-49cf-9328-72bbc72ee659",
   "metadata": {},
   "outputs": [],
   "source": []
  }
 ],
 "metadata": {
  "kernelspec": {
   "display_name": "Python 3 (ipykernel)",
   "language": "python",
   "name": "python3"
  },
  "language_info": {
   "codemirror_mode": {
    "name": "ipython",
    "version": 3
   },
   "file_extension": ".py",
   "mimetype": "text/x-python",
   "name": "python",
   "nbconvert_exporter": "python",
   "pygments_lexer": "ipython3",
   "version": "3.10.14"
  }
 },
 "nbformat": 4,
 "nbformat_minor": 5
}
