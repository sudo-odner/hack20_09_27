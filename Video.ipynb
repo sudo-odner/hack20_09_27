{
 "cells": [
  {
   "cell_type": "code",
   "execution_count": null,
   "id": "4fcb6f17-7308-426e-ab12-2645156e0904",
   "metadata": {},
   "outputs": [],
   "source": [
    "import cv2\n",
    "import numpy as np\n",
    "\n",
    "def extract_frames_from_video(video_path):\n",
    "    # Открываем видеофайл\n",
    "    cap = cv2.VideoCapture(video_path)\n",
    "    \n",
    "    # Проверяем, удалось ли открыть видеофайл\n",
    "    if not cap.isOpened():\n",
    "        print(f\"Ошибка: не удалось открыть видеофайл {video_path}\")\n",
    "        return []\n",
    "\n",
    "    frames = []\n",
    "    \n",
    "    while cap.isOpened():\n",
    "        # Читаем кадр за кадром\n",
    "        ret, frame = cap.read()\n",
    "        \n",
    "        if not ret:\n",
    "            break\n",
    "        \n",
    "        # Добавляем кадр в список\n",
    "        frames.append(frame)\n",
    "    \n",
    "    # Освобождаем захват видео\n",
    "    cap.release()\n",
    "    \n",
    "    return np.array(frames)\n",
    "\n",
    "# Пример использования\n",
    "video_path = 'path_to_your_video.mp4'\n",
    "frames = extract_frames_from_video(video_path)\n",
    "print(f\"Извлечено {len(frames)} кадров из видео\")"
   ]
  }
 ],
 "metadata": {
  "kernelspec": {
   "display_name": "Python 3 (ipykernel)",
   "language": "python",
   "name": "python3"
  },
  "language_info": {
   "codemirror_mode": {
    "name": "ipython",
    "version": 3
   },
   "file_extension": ".py",
   "mimetype": "text/x-python",
   "name": "python",
   "nbconvert_exporter": "python",
   "pygments_lexer": "ipython3",
   "version": "3.10.14"
  }
 },
 "nbformat": 4,
 "nbformat_minor": 5
}
